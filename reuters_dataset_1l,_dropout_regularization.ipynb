{
  "nbformat": 4,
  "nbformat_minor": 0,
  "metadata": {
    "colab": {
      "provenance": [],
      "authorship_tag": "ABX9TyMp90GhXEVbETgY1FPY6jG7",
      "include_colab_link": true
    },
    "kernelspec": {
      "name": "python3",
      "display_name": "Python 3"
    },
    "language_info": {
      "name": "python"
    },
    "accelerator": "GPU",
    "gpuClass": "standard"
  },
  "cells": [
    {
      "cell_type": "markdown",
      "metadata": {
        "id": "view-in-github",
        "colab_type": "text"
      },
      "source": [
        "<a href=\"https://colab.research.google.com/github/lgrace94/class-python-for-deep-learning/blob/main/reuters_dataset_1l%2C_dropout_regularization.ipynb\" target=\"_parent\"><img src=\"https://colab.research.google.com/assets/colab-badge.svg\" alt=\"Open In Colab\"/></a>"
      ]
    },
    {
      "cell_type": "markdown",
      "source": [
        "# The Reuters dataset을 이용한 l1 및 dropout regularizaiotn  "
      ],
      "metadata": {
        "id": "1ryNIZ0PUKIF"
      }
    },
    {
      "cell_type": "markdown",
      "source": [
        "**Loading the Reuters dataset** "
      ],
      "metadata": {
        "id": "pV-KgLISUgq5"
      }
    },
    {
      "cell_type": "code",
      "execution_count": 31,
      "metadata": {
        "id": "cxFnWDNw6ab7"
      },
      "outputs": [],
      "source": [
        "from tensorflow.keras.datasets import reuters\n",
        "(train_data, train_labels), (test_data, test_labels) = reuters.load_data(\n",
        "    num_words=10000)"
      ]
    },
    {
      "cell_type": "markdown",
      "source": [
        "**Decoding newswires back to text**"
      ],
      "metadata": {
        "id": "Pw2l5eFwUmQG"
      }
    },
    {
      "cell_type": "code",
      "source": [
        "word_index = reuters.get_word_index()\n",
        "reverse_word_index = dict([(value, key) for (key, value) in word_index.items()])\n",
        "decoded_newswire = \" \".join([reverse_word_index.get(i - 3, \"?\") for i in\n",
        "    train_data[0]])"
      ],
      "metadata": {
        "colab": {
          "base_uri": "https://localhost:8080/"
        },
        "id": "QzppNutn7U4S",
        "outputId": "75074153-8c50-4f35-93a9-2e5aa0c8ef96"
      },
      "execution_count": 7,
      "outputs": [
        {
          "output_type": "stream",
          "name": "stdout",
          "text": [
            "Downloading data from https://storage.googleapis.com/tensorflow/tf-keras-datasets/reuters_word_index.json\n",
            "550378/550378 [==============================] - 1s 1us/step\n"
          ]
        }
      ]
    },
    {
      "cell_type": "markdown",
      "source": [
        "**Encoding the input data**"
      ],
      "metadata": {
        "id": "7kSpeTXSUqrk"
      }
    },
    {
      "cell_type": "code",
      "source": [
        "import numpy as np\n",
        "\n",
        "def vectorize_sequences(sequences, dimension=10000):\n",
        "    results = np.zeros((len(sequences), dimension))\n",
        "    for i, sequence in enumerate(sequences):\n",
        "        results[i, sequence] = 1.\n",
        "    return results\n"
      ],
      "metadata": {
        "id": "qpjHOZ_K8PX3"
      },
      "execution_count": 8,
      "outputs": []
    },
    {
      "cell_type": "code",
      "source": [
        "x_train = vectorize_sequences(train_data)\n",
        "x_test = vectorize_sequences(test_data)"
      ],
      "metadata": {
        "id": "QzMGcQm-6iZ-"
      },
      "execution_count": 9,
      "outputs": []
    },
    {
      "cell_type": "markdown",
      "source": [
        "**Encoding the labels**"
      ],
      "metadata": {
        "id": "z-uYda1FUxLd"
      }
    },
    {
      "cell_type": "code",
      "source": [
        "from tensorflow.keras.utils import to_categorical\n",
        "y_train = to_categorical(train_labels)\n",
        "y_test = to_categorical(test_labels)"
      ],
      "metadata": {
        "id": "xEWdCO_N6kh5"
      },
      "execution_count": 10,
      "outputs": []
    },
    {
      "cell_type": "markdown",
      "source": [
        "**Model definition**"
      ],
      "metadata": {
        "id": "Uzzegr-4U01B"
      }
    },
    {
      "cell_type": "code",
      "source": [
        "from tensorflow import keras\n",
        "from tensorflow.keras import layers, regularizers\n",
        "\n",
        "model = keras.Sequential([\n",
        "    layers.Dense(64, \n",
        "                 kernel_regularizer=regularizers.l1(0.002),\n",
        "                 activation=\"relu\"),\n",
        "    layers.Dense(64, \n",
        "                 kernel_regularizer=regularizers.l1(0.002),\n",
        "                 activation=\"relu\"),\n",
        "    layers.Dense(46, activation=\"softmax\")\n",
        "])\n",
        "\n",
        "model = keras.Sequential([\n",
        "    layers.Dense(64, activation=\"relu\"),\n",
        "    layers.Dropout(0.3),\n",
        "    layers.Dense(64, activation=\"relu\"),\n",
        "    layers.Dropout(0.3),\n",
        "    layers.Dense(46, activation=\"softmax\")\n",
        "])"
      ],
      "metadata": {
        "id": "96r-PgKe6nIq"
      },
      "execution_count": 24,
      "outputs": []
    },
    {
      "cell_type": "markdown",
      "source": [
        "**Compiling the model**"
      ],
      "metadata": {
        "id": "qlMzLwQHU4TU"
      }
    },
    {
      "cell_type": "code",
      "source": [
        "model.compile(optimizer=\"rmsprop\",\n",
        "              loss=\"categorical_crossentropy\",\n",
        "              metrics=[\"accuracy\"])"
      ],
      "metadata": {
        "id": "-gEZXUOS6oIE"
      },
      "execution_count": 25,
      "outputs": []
    },
    {
      "cell_type": "markdown",
      "source": [
        "**Setting aside a validation set**"
      ],
      "metadata": {
        "id": "HiuCFZYiU8Yi"
      }
    },
    {
      "cell_type": "code",
      "source": [
        "x_val = x_train[:1000]\n",
        "partial_x_train = x_train[1000:]\n",
        "y_val = y_train[:1000]\n",
        "partial_y_train = y_train[1000:]"
      ],
      "metadata": {
        "id": "BqusZsEx6skz"
      },
      "execution_count": 26,
      "outputs": []
    },
    {
      "cell_type": "markdown",
      "source": [
        "**Training the model**"
      ],
      "metadata": {
        "id": "eohigrCRU-t7"
      }
    },
    {
      "cell_type": "code",
      "source": [
        "history_l1_reg = model.fit(partial_x_train,\n",
        "                    partial_y_train,\n",
        "                    epochs=20,\n",
        "                    batch_size=512,\n",
        "                    validation_data=(x_val, y_val))"
      ],
      "metadata": {
        "colab": {
          "base_uri": "https://localhost:8080/"
        },
        "id": "3W8FH9jT6s6m",
        "outputId": "ff29f4db-fe30-4f3e-8016-91a27740369a"
      },
      "execution_count": 20,
      "outputs": [
        {
          "output_type": "stream",
          "name": "stdout",
          "text": [
            "Epoch 1/20\n",
            "16/16 [==============================] - 1s 31ms/step - loss: 3.0527 - accuracy: 0.3490 - val_loss: 2.1392 - val_accuracy: 0.5370\n",
            "Epoch 2/20\n",
            "16/16 [==============================] - 0s 20ms/step - loss: 2.1000 - accuracy: 0.5184 - val_loss: 1.6307 - val_accuracy: 0.6090\n",
            "Epoch 3/20\n",
            "16/16 [==============================] - 0s 18ms/step - loss: 1.7593 - accuracy: 0.5856 - val_loss: 1.4517 - val_accuracy: 0.6690\n",
            "Epoch 4/20\n",
            "16/16 [==============================] - 0s 19ms/step - loss: 1.5671 - accuracy: 0.6309 - val_loss: 1.3544 - val_accuracy: 0.6900\n",
            "Epoch 5/20\n",
            "16/16 [==============================] - 0s 17ms/step - loss: 1.4412 - accuracy: 0.6585 - val_loss: 1.2729 - val_accuracy: 0.7080\n",
            "Epoch 6/20\n",
            "16/16 [==============================] - 0s 19ms/step - loss: 1.3413 - accuracy: 0.6840 - val_loss: 1.2118 - val_accuracy: 0.7130\n",
            "Epoch 7/20\n",
            "16/16 [==============================] - 0s 21ms/step - loss: 1.2407 - accuracy: 0.7018 - val_loss: 1.1616 - val_accuracy: 0.7320\n",
            "Epoch 8/20\n",
            "16/16 [==============================] - 0s 21ms/step - loss: 1.1768 - accuracy: 0.7205 - val_loss: 1.1343 - val_accuracy: 0.7360\n",
            "Epoch 9/20\n",
            "16/16 [==============================] - 0s 21ms/step - loss: 1.1191 - accuracy: 0.7265 - val_loss: 1.1022 - val_accuracy: 0.7460\n",
            "Epoch 10/20\n",
            "16/16 [==============================] - 0s 22ms/step - loss: 1.0602 - accuracy: 0.7449 - val_loss: 1.0852 - val_accuracy: 0.7600\n",
            "Epoch 11/20\n",
            "16/16 [==============================] - 0s 23ms/step - loss: 0.9920 - accuracy: 0.7600 - val_loss: 1.0602 - val_accuracy: 0.7670\n",
            "Epoch 12/20\n",
            "16/16 [==============================] - 0s 23ms/step - loss: 0.9531 - accuracy: 0.7615 - val_loss: 1.0368 - val_accuracy: 0.7760\n",
            "Epoch 13/20\n",
            "16/16 [==============================] - 0s 19ms/step - loss: 0.9090 - accuracy: 0.7755 - val_loss: 1.0267 - val_accuracy: 0.7770\n",
            "Epoch 14/20\n",
            "16/16 [==============================] - 0s 19ms/step - loss: 0.8660 - accuracy: 0.7838 - val_loss: 1.0187 - val_accuracy: 0.7820\n",
            "Epoch 15/20\n",
            "16/16 [==============================] - 0s 17ms/step - loss: 0.8398 - accuracy: 0.7905 - val_loss: 1.0055 - val_accuracy: 0.7890\n",
            "Epoch 16/20\n",
            "16/16 [==============================] - 0s 19ms/step - loss: 0.8038 - accuracy: 0.7982 - val_loss: 0.9971 - val_accuracy: 0.7920\n",
            "Epoch 17/20\n",
            "16/16 [==============================] - 0s 19ms/step - loss: 0.7727 - accuracy: 0.8021 - val_loss: 1.0172 - val_accuracy: 0.7880\n",
            "Epoch 18/20\n",
            "16/16 [==============================] - 0s 17ms/step - loss: 0.7440 - accuracy: 0.8084 - val_loss: 0.9959 - val_accuracy: 0.8010\n",
            "Epoch 19/20\n",
            "16/16 [==============================] - 0s 19ms/step - loss: 0.7154 - accuracy: 0.8175 - val_loss: 0.9982 - val_accuracy: 0.8010\n",
            "Epoch 20/20\n",
            "16/16 [==============================] - 0s 19ms/step - loss: 0.6989 - accuracy: 0.8207 - val_loss: 1.0002 - val_accuracy: 0.8000\n"
          ]
        }
      ]
    },
    {
      "cell_type": "code",
      "source": [
        "history_dropout = model.fit(partial_x_train,\n",
        "                    partial_y_train,\n",
        "                    epochs=20,\n",
        "                    batch_size=512,\n",
        "                    validation_data=(x_val, y_val))"
      ],
      "metadata": {
        "colab": {
          "base_uri": "https://localhost:8080/"
        },
        "id": "T9on40pvRKnk",
        "outputId": "3d4b10e6-9e28-4c0c-e89f-100f2a728340"
      },
      "execution_count": 27,
      "outputs": [
        {
          "output_type": "stream",
          "name": "stdout",
          "text": [
            "Epoch 1/20\n",
            "16/16 [==============================] - 1s 31ms/step - loss: 3.0336 - accuracy: 0.4119 - val_loss: 2.0397 - val_accuracy: 0.5580\n",
            "Epoch 2/20\n",
            "16/16 [==============================] - 0s 18ms/step - loss: 1.8910 - accuracy: 0.5841 - val_loss: 1.5303 - val_accuracy: 0.6500\n",
            "Epoch 3/20\n",
            "16/16 [==============================] - 0s 19ms/step - loss: 1.5061 - accuracy: 0.6581 - val_loss: 1.3153 - val_accuracy: 0.7050\n",
            "Epoch 4/20\n",
            "16/16 [==============================] - 0s 19ms/step - loss: 1.3053 - accuracy: 0.7052 - val_loss: 1.1923 - val_accuracy: 0.7300\n",
            "Epoch 5/20\n",
            "16/16 [==============================] - 0s 19ms/step - loss: 1.1545 - accuracy: 0.7345 - val_loss: 1.1167 - val_accuracy: 0.7480\n",
            "Epoch 6/20\n",
            "16/16 [==============================] - 0s 17ms/step - loss: 1.0429 - accuracy: 0.7598 - val_loss: 1.0500 - val_accuracy: 0.7690\n",
            "Epoch 7/20\n",
            "16/16 [==============================] - 0s 18ms/step - loss: 0.9434 - accuracy: 0.7846 - val_loss: 1.0052 - val_accuracy: 0.7810\n",
            "Epoch 8/20\n",
            "16/16 [==============================] - 0s 16ms/step - loss: 0.8506 - accuracy: 0.8001 - val_loss: 0.9634 - val_accuracy: 0.7930\n",
            "Epoch 9/20\n",
            "16/16 [==============================] - 0s 19ms/step - loss: 0.7810 - accuracy: 0.8200 - val_loss: 0.9315 - val_accuracy: 0.7990\n",
            "Epoch 10/20\n",
            "16/16 [==============================] - 0s 20ms/step - loss: 0.7139 - accuracy: 0.8316 - val_loss: 0.9174 - val_accuracy: 0.8010\n",
            "Epoch 11/20\n",
            "16/16 [==============================] - 0s 19ms/step - loss: 0.6523 - accuracy: 0.8426 - val_loss: 0.9033 - val_accuracy: 0.8080\n",
            "Epoch 12/20\n",
            "16/16 [==============================] - 0s 18ms/step - loss: 0.6141 - accuracy: 0.8558 - val_loss: 0.9023 - val_accuracy: 0.8090\n",
            "Epoch 13/20\n",
            "16/16 [==============================] - 0s 17ms/step - loss: 0.5692 - accuracy: 0.8632 - val_loss: 0.8907 - val_accuracy: 0.8150\n",
            "Epoch 14/20\n",
            "16/16 [==============================] - 0s 17ms/step - loss: 0.5116 - accuracy: 0.8773 - val_loss: 0.8715 - val_accuracy: 0.8230\n",
            "Epoch 15/20\n",
            "16/16 [==============================] - 0s 18ms/step - loss: 0.4919 - accuracy: 0.8804 - val_loss: 0.8794 - val_accuracy: 0.8260\n",
            "Epoch 16/20\n",
            "16/16 [==============================] - 0s 23ms/step - loss: 0.4485 - accuracy: 0.8894 - val_loss: 0.8964 - val_accuracy: 0.8190\n",
            "Epoch 17/20\n",
            "16/16 [==============================] - 0s 19ms/step - loss: 0.4200 - accuracy: 0.8941 - val_loss: 0.8959 - val_accuracy: 0.8240\n",
            "Epoch 18/20\n",
            "16/16 [==============================] - 0s 23ms/step - loss: 0.3858 - accuracy: 0.9033 - val_loss: 0.8950 - val_accuracy: 0.8260\n",
            "Epoch 19/20\n",
            "16/16 [==============================] - 0s 24ms/step - loss: 0.3627 - accuracy: 0.9099 - val_loss: 0.9167 - val_accuracy: 0.8180\n",
            "Epoch 20/20\n",
            "16/16 [==============================] - 0s 22ms/step - loss: 0.3408 - accuracy: 0.9126 - val_loss: 0.8906 - val_accuracy: 0.8320\n"
          ]
        }
      ]
    },
    {
      "cell_type": "markdown",
      "source": [
        "**Plotting the validation loss of 2 regularization methods**"
      ],
      "metadata": {
        "id": "2u8eC7ohVHTx"
      }
    },
    {
      "cell_type": "code",
      "source": [
        "import matplotlib.pyplot as plt\n",
        "\n",
        "val_loss_l1_reg = history_l1_reg.history[\"val_loss\"]\n",
        "val_loss_dropout = history_dropout.history[\"val_loss\"]\n",
        "epochs = range(1,21)\n",
        "plt.plot(epochs, val_loss_l1_reg, \"bo-\", label=\"Validation loss of l1 reg\")\n",
        "plt.plot(epochs, val_loss_dropout, \"r--\", label=\"Validation loss of dropout\")\n",
        "plt.title(\"2 regulation methods of validation loss\")\n",
        "plt.xlabel(\"Epochs\")\n",
        "plt.ylabel(\"Loss\")\n",
        "plt.legend()\n",
        "plt.show()"
      ],
      "metadata": {
        "colab": {
          "base_uri": "https://localhost:8080/",
          "height": 472
        },
        "id": "ylMdwwl36vnd",
        "outputId": "82ad1b66-3d22-4a62-fff1-3e8568682e56"
      },
      "execution_count": 30,
      "outputs": [
        {
          "output_type": "display_data",
          "data": {
            "text/plain": [
              "<Figure size 640x480 with 1 Axes>"
            ],
            "image/png": "[encoded data removed]"
          },
          "metadata": {}
        }
      ]
    }
  ]
}